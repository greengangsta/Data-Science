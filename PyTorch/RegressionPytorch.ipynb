{
  "nbformat": 4,
  "nbformat_minor": 0,
  "metadata": {
    "colab": {
      "name": "RegressionPytorch.ipynb",
      "version": "0.3.2",
      "provenance": [],
      "collapsed_sections": []
    },
    "kernelspec": {
      "name": "python3",
      "display_name": "Python 3"
    }
  },
  "cells": [
    {
      "cell_type": "code",
      "metadata": {
        "id": "5X95zMZQdQj4",
        "colab_type": "code",
        "colab": {}
      },
      "source": [
        "import torch\n",
        "import pandas as pd"
      ],
      "execution_count": 0,
      "outputs": []
    },
    {
      "cell_type": "code",
      "metadata": {
        "id": "zhzlXePKe4e6",
        "colab_type": "code",
        "colab": {}
      },
      "source": [
        "class OneHotEncoder():\n",
        "  \n",
        "  def __init__(self,series):\n",
        "    unique_values = series.unique()\n",
        "    self.ordinals = {c:i for i, c in enumerate(unique_values)}\n",
        "    self.encoder = torch.eye(len(unique_values),len(unique_values))\n",
        "    \n",
        "  def __getitem__(self,value):\n",
        "    return self.encoder[self.ordinals[value]]"
      ],
      "execution_count": 0,
      "outputs": []
    },
    {
      "cell_type": "code",
      "metadata": {
        "id": "ULChbqOWfx1F",
        "colab_type": "code",
        "colab": {
          "base_uri": "https://localhost:8080/",
          "height": 386
        },
        "outputId": "1f6f1a06-8158-4d47-dfef-12b096b2164a"
      },
      "source": [
        "look = pd.read_csv('./kc_house_data.csv')\n",
        "look.iloc[0]"
      ],
      "execution_count": 3,
      "outputs": [
        {
          "output_type": "execute_result",
          "data": {
            "text/plain": [
              "id                    7129300520\n",
              "date             20141013T000000\n",
              "price                     221900\n",
              "bedrooms                       3\n",
              "bathrooms                      1\n",
              "sqft_living                 1180\n",
              "sqft_lot                    5650\n",
              "floors                         1\n",
              "waterfront                     0\n",
              "view                           0\n",
              "condition                      3\n",
              "grade                          7\n",
              "sqft_above                  1180\n",
              "sqft_basement                  0\n",
              "yr_built                    1955\n",
              "yr_renovated                   0\n",
              "zipcode                    98178\n",
              "lat                      47.5112\n",
              "long                    -122.257\n",
              "sqft_living15               1340\n",
              "sqft_lot15                  5650\n",
              "Name: 0, dtype: object"
            ]
          },
          "metadata": {
            "tags": []
          },
          "execution_count": 3
        }
      ]
    },
    {
      "cell_type": "code",
      "metadata": {
        "id": "TtpDqHkwf8up",
        "colab_type": "code",
        "colab": {}
      },
      "source": [
        "categorical = ['waterfront','view','condition','grade']"
      ],
      "execution_count": 0,
      "outputs": []
    },
    {
      "cell_type": "code",
      "metadata": {
        "id": "_d5ss7EBgWfH",
        "colab_type": "code",
        "colab": {}
      },
      "source": [
        "discard = ['id']"
      ],
      "execution_count": 0,
      "outputs": []
    },
    {
      "cell_type": "code",
      "metadata": {
        "id": "i3nAeqsXgdnp",
        "colab_type": "code",
        "colab": {}
      },
      "source": [
        "import dateutil"
      ],
      "execution_count": 0,
      "outputs": []
    },
    {
      "cell_type": "code",
      "metadata": {
        "id": "oM9ewFYPggkK",
        "colab_type": "code",
        "colab": {}
      },
      "source": [
        "class DateEncoder():\n",
        "  \n",
        "  def __getitem__(self,datestring):\n",
        "    parsed = dateutil.parser.parse(datestring)\n",
        "    return torch.Tensor([parsed.year,parsed.month,parsed.day])"
      ],
      "execution_count": 0,
      "outputs": []
    },
    {
      "cell_type": "code",
      "metadata": {
        "id": "J-HRqfyZg9lp",
        "colab_type": "code",
        "colab": {
          "base_uri": "https://localhost:8080/",
          "height": 34
        },
        "outputId": "ed8e5382-dcbc-4f5e-b60d-7e8047aa58cf"
      },
      "source": [
        "dates = ['date']\n",
        "DateEncoder()['20141013T000000']"
      ],
      "execution_count": 14,
      "outputs": [
        {
          "output_type": "execute_result",
          "data": {
            "text/plain": [
              "tensor([2014.,   10.,   13.])"
            ]
          },
          "metadata": {
            "tags": []
          },
          "execution_count": 14
        }
      ]
    },
    {
      "cell_type": "code",
      "metadata": {
        "id": "1kicX-6HhL_h",
        "colab_type": "code",
        "colab": {}
      },
      "source": [
        "from torch.utils.data import Dataset"
      ],
      "execution_count": 0,
      "outputs": []
    },
    {
      "cell_type": "code",
      "metadata": {
        "id": "OIu0GhfMh6SR",
        "colab_type": "code",
        "colab": {}
      },
      "source": [
        "class MixedCSV(Dataset):\n",
        "  def __init__(self,datafile,output_series_name,date_series_names,categorical_series_names,ignore_series_names):\n",
        "    self.dataset = pd.read_csv('./kc_house_data.csv')\n",
        "    self.output_series_name = output_series_name\n",
        "    self.encoders = {}\n",
        "    for series_name in date_series_names:\n",
        "      self.encoders[series_name] = DateEncoder()\n",
        "    for series_name in categorical_series_names:\n",
        "      self.encoders[series_name] = OneHotEncoder(self.dataset[series_name])\n",
        "    self.ignore = ignore_series_names\n",
        "   \n",
        "  def __len__(self):\n",
        "    return len(self.dataset)\n",
        "   \n",
        "  def __getitem__(self,idx):\n",
        "    if type(idx) == torch.Tensor:\n",
        "      idx = idx.item()\n",
        "    sample = self.dataset.iloc[idx]\n",
        "    output = torch.Tensor([sample[self.output_series_name]])\n",
        "    \n",
        "    input_components = []\n",
        "    for name,value in sample.items():\n",
        "      if name in self.ignore:\n",
        "        continue\n",
        "      elif name in self.encoders:\n",
        "        input_components.append(self.encoders[name][value])\n",
        "      else :\n",
        "        input_components.append(torch.Tensor([value]))\n",
        "     \n",
        "    input = torch.cat(input_components)\n",
        "    return input,output\n",
        "  \n",
        "      "
      ],
      "execution_count": 0,
      "outputs": []
    },
    {
      "cell_type": "code",
      "metadata": {
        "id": "tdcj7G3dkuJG",
        "colab_type": "code",
        "colab": {
          "base_uri": "https://localhost:8080/",
          "height": 168
        },
        "outputId": "070cc626-d627-49d9-d230-3cdb7d127247"
      },
      "source": [
        "houses = MixedCSV('./kc_house_data.csv','price',dates,categorical,discard)\n",
        "houses[0]"
      ],
      "execution_count": 25,
      "outputs": [
        {
          "output_type": "execute_result",
          "data": {
            "text/plain": [
              "(tensor([ 2.0140e+03,  1.0000e+01,  1.3000e+01,  2.2190e+05,  3.0000e+00,\n",
              "          1.0000e+00,  1.1800e+03,  5.6500e+03,  1.0000e+00,  1.0000e+00,\n",
              "          0.0000e+00,  1.0000e+00,  0.0000e+00,  0.0000e+00,  0.0000e+00,\n",
              "          0.0000e+00,  1.0000e+00,  0.0000e+00,  0.0000e+00,  0.0000e+00,\n",
              "          0.0000e+00,  1.0000e+00,  0.0000e+00,  0.0000e+00,  0.0000e+00,\n",
              "          0.0000e+00,  0.0000e+00,  0.0000e+00,  0.0000e+00,  0.0000e+00,\n",
              "          0.0000e+00,  0.0000e+00,  0.0000e+00,  1.1800e+03,  0.0000e+00,\n",
              "          1.9550e+03,  0.0000e+00,  9.8178e+04,  4.7511e+01, -1.2226e+02,\n",
              "          1.3400e+03,  5.6500e+03]), tensor([221900.]))"
            ]
          },
          "metadata": {
            "tags": []
          },
          "execution_count": 25
        }
      ]
    },
    {
      "cell_type": "code",
      "metadata": {
        "id": "VsIkwGP0k7Bf",
        "colab_type": "code",
        "colab": {}
      },
      "source": [
        "class Model(torch.nn.Module):\n",
        "  \n",
        "  def __init__(self,input_dimensions,size = 128):\n",
        "    super().__init__()\n",
        "    self.layer_one = torch.nn.Linear(input_dimensions,size)\n",
        "    self.activation_one = torch.nn.ReLU()\n",
        "    self.layer_two = torch.nn.Linear(size,size)\n",
        "    self.activation_two = torch.nn.ReLU()\n",
        "    self.shape_outputs = torch.nn.Linear(size,1)\n",
        "    \n",
        "  def forward(self,inputs):\n",
        "    x = self.layer_one(inputs)\n",
        "    x = self.activation_one(x)\n",
        "    x = self.layer_two(x)\n",
        "    x = self.activation_two(x)\n",
        "    x = self.shape_outputs(x)\n",
        "    return x"
      ],
      "execution_count": 0,
      "outputs": []
    },
    {
      "cell_type": "code",
      "metadata": {
        "id": "IoFljfMCnfth",
        "colab_type": "code",
        "colab": {}
      },
      "source": [
        "model = Model(houses[0][0].shape[0])\n",
        "optimizer = torch.optim.Adam(model.parameters())\n",
        "loss_function = torch.nn.MSELoss()"
      ],
      "execution_count": 0,
      "outputs": []
    },
    {
      "cell_type": "code",
      "metadata": {
        "id": "4_qdwBoLng6O",
        "colab_type": "code",
        "colab": {
          "base_uri": "https://localhost:8080/",
          "height": 286
        },
        "outputId": "63a64733-c444-4073-a546-c1efdb9187cb"
      },
      "source": [
        "number_for_testing = int(len(houses)* 0.05)\n",
        "number_for_training = len(houses) - number_for_testing\n",
        "train,test = torch.utils.data.random_split(houses,[number_for_training,number_for_testing])\n",
        "training = torch.utils.data.DataLoader(train,batch_size = 32,shuffle = True)\n",
        "for epoch in range(16):\n",
        "  for inputs,outputs in training:\n",
        "    optimizer.zero_grad()\n",
        "    results = model(inputs)\n",
        "    loss = loss_function(results,outputs)\n",
        "    loss.backward()\n",
        "    optimizer.step()\n",
        "  print('loss : {0}'.format(loss))"
      ],
      "execution_count": 36,
      "outputs": [
        {
          "output_type": "stream",
          "text": [
            "loss : 860235.9375\n",
            "loss : 1674349.125\n",
            "loss : 194048.671875\n",
            "loss : 100432.5\n",
            "loss : 952169.0\n",
            "loss : 8119.04736328125\n",
            "loss : 182728.25\n",
            "loss : 2799585.75\n",
            "loss : 928227.875\n",
            "loss : 232133.15625\n",
            "loss : 3273.12451171875\n",
            "loss : 359160.1875\n",
            "loss : 6005.0322265625\n",
            "loss : 224687.90625\n",
            "loss : 47495.67578125\n",
            "loss : 684945.8125\n"
          ],
          "name": "stdout"
        }
      ]
    },
    {
      "cell_type": "code",
      "metadata": {
        "id": "bRfffEwjo_Wp",
        "colab_type": "code",
        "colab": {
          "base_uri": "https://localhost:8080/",
          "height": 34
        },
        "outputId": "fde35832-efc9-42b1-d979-16353fc389bb"
      },
      "source": [
        "actual = test[0][1]\n",
        "predicted = model(test[0][0])\n",
        "actual,predicted"
      ],
      "execution_count": 38,
      "outputs": [
        {
          "output_type": "execute_result",
          "data": {
            "text/plain": [
              "(tensor([615000.]), tensor([614755.5625], grad_fn=<AddBackward0>))"
            ]
          },
          "metadata": {
            "tags": []
          },
          "execution_count": 38
        }
      ]
    },
    {
      "cell_type": "code",
      "metadata": {
        "id": "bGxfyT10qmUP",
        "colab_type": "code",
        "colab": {}
      },
      "source": [
        "import sklearn.metrics\n",
        "import torch.utils.data\n"
      ],
      "execution_count": 0,
      "outputs": []
    },
    {
      "cell_type": "code",
      "metadata": {
        "id": "tzHRPzQ0q3pB",
        "colab_type": "code",
        "colab": {
          "base_uri": "https://localhost:8080/",
          "height": 34
        },
        "outputId": "cc86e1c5-7c22-499f-b235-cbc92a0e90f6"
      },
      "source": [
        "testing = torch.utils.data.DataLoader(test,batch_size = len(test),shuffle = False)\n",
        "for inputs,outputs in testing:\n",
        "  predicted = model(inputs).detach().numpy()\n",
        "  actual = outputs.numpy()\n",
        "  print(sklearn.metrics.r2_score(actual,predicted))"
      ],
      "execution_count": 41,
      "outputs": [
        {
          "output_type": "stream",
          "text": [
            "0.9999977580759927\n"
          ],
          "name": "stdout"
        }
      ]
    },
    {
      "cell_type": "code",
      "metadata": {
        "id": "iVZq58sBrbnG",
        "colab_type": "code",
        "colab": {}
      },
      "source": [
        ""
      ],
      "execution_count": 0,
      "outputs": []
    }
  ]
}