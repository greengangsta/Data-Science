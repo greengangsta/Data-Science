{
  "nbformat": 4,
  "nbformat_minor": 0,
  "metadata": {
    "colab": {
      "name": "MushroomClassification.ipynb",
      "version": "0.3.2",
      "provenance": [],
      "collapsed_sections": []
    },
    "kernelspec": {
      "name": "python3",
      "display_name": "Python 3"
    }
  },
  "cells": [
    {
      "cell_type": "code",
      "metadata": {
        "id": "OJDz-atM7cRY",
        "colab_type": "code",
        "colab": {}
      },
      "source": [
        "import torch\n",
        "import pandas as pd\n",
        "import matplotlib.pyplot as plt"
      ],
      "execution_count": 0,
      "outputs": []
    },
    {
      "cell_type": "code",
      "metadata": {
        "id": "Ck6vEfhk7eC8",
        "colab_type": "code",
        "colab": {}
      },
      "source": [
        "class MushroomDataset():\n",
        "  \n",
        "  def __init__(self):\n",
        "    self.data = pd.read_csv('./mushrooms.csv')\n",
        "    \n",
        "  def __len__(self):\n",
        "    return len(self.data)\n",
        "  \n",
        "  def __getitem__(self,idx):\n",
        "    return self.data.iloc[idx][0:1]\n",
        "  "
      ],
      "execution_count": 0,
      "outputs": []
    },
    {
      "cell_type": "code",
      "metadata": {
        "id": "QqAC4P7S7nAr",
        "colab_type": "code",
        "colab": {
          "base_uri": "https://localhost:8080/",
          "height": 50
        },
        "outputId": "d6261062-30cf-43d6-8701-679aa4068509"
      },
      "source": [
        "shrooms = MushroomDataset()\n",
        "len(shrooms), shrooms[0]"
      ],
      "execution_count": 9,
      "outputs": [
        {
          "output_type": "execute_result",
          "data": {
            "text/plain": [
              "(8124, class    p\n",
              " Name: 0, dtype: object)"
            ]
          },
          "metadata": {
            "tags": []
          },
          "execution_count": 9
        }
      ]
    },
    {
      "cell_type": "code",
      "metadata": {
        "id": "6iGrX7VJ7oKe",
        "colab_type": "code",
        "colab": {}
      },
      "source": [
        "class MushroomDataset():\n",
        "  \n",
        "  def __init__(self):\n",
        "    self.data = pd.read_csv('./mushrooms.csv')\n",
        "    \n",
        "  def __len__(self):\n",
        "    return len(self.data)\n",
        "  \n",
        "  def __getitem__(self,idx):\n",
        "    if type(idx) == torch.Tensor:\n",
        "      idx = idx.item()\n",
        "    return self.data.iloc[idx][1:],self.data.iloc[idx][0:1]\n",
        "\n",
        "  \n",
        "  "
      ],
      "execution_count": 0,
      "outputs": []
    },
    {
      "cell_type": "code",
      "metadata": {
        "id": "JEaAQxSE-gLK",
        "colab_type": "code",
        "colab": {
          "base_uri": "https://localhost:8080/",
          "height": 420
        },
        "outputId": "76dc1515-4fd7-4342-c67d-053ca448a91b"
      },
      "source": [
        "shrooms = MushroomDataset()\n",
        "shrooms[0]"
      ],
      "execution_count": 12,
      "outputs": [
        {
          "output_type": "execute_result",
          "data": {
            "text/plain": [
              "(cap-shape                   x\n",
              " cap-surface                 s\n",
              " cap-color                   n\n",
              " bruises                     t\n",
              " odor                        p\n",
              " gill-attachment             f\n",
              " gill-spacing                c\n",
              " gill-size                   n\n",
              " gill-color                  k\n",
              " stalk-shape                 e\n",
              " stalk-root                  e\n",
              " stalk-surface-above-ring    s\n",
              " stalk-surface-below-ring    s\n",
              " stalk-color-above-ring      w\n",
              " stalk-color-below-ring      w\n",
              " veil-type                   p\n",
              " veil-color                  w\n",
              " ring-number                 o\n",
              " ring-type                   p\n",
              " spore-print-color           k\n",
              " population                  s\n",
              " habitat                     u\n",
              " Name: 0, dtype: object, class    p\n",
              " Name: 0, dtype: object)"
            ]
          },
          "metadata": {
            "tags": []
          },
          "execution_count": 12
        }
      ]
    },
    {
      "cell_type": "code",
      "metadata": {
        "id": "eOIRju-B-jUL",
        "colab_type": "code",
        "colab": {
          "base_uri": "https://localhost:8080/",
          "height": 34
        },
        "outputId": "e223c26e-9259-4c8d-f631-d6ff91a530f7"
      },
      "source": [
        "from torch.utils import data\n",
        "number_for_testing  = int(len(shrooms)*0.05)\n",
        "number_for_training = len(shrooms) - number_for_testing\n",
        "train, test = data.random_split(shrooms,[number_for_training,number_for_testing])\n",
        "len(train), len(test)"
      ],
      "execution_count": 46,
      "outputs": [
        {
          "output_type": "execute_result",
          "data": {
            "text/plain": [
              "(7718, 406)"
            ]
          },
          "metadata": {
            "tags": []
          },
          "execution_count": 46
        }
      ]
    },
    {
      "cell_type": "code",
      "metadata": {
        "id": "CT7S5e6M_bLC",
        "colab_type": "code",
        "colab": {
          "base_uri": "https://localhost:8080/",
          "height": 420
        },
        "outputId": "431d4fd8-670d-4be4-8cb6-b07758c4eb67"
      },
      "source": [
        "test[0]"
      ],
      "execution_count": 16,
      "outputs": [
        {
          "output_type": "execute_result",
          "data": {
            "text/plain": [
              "(cap-shape                   x\n",
              " cap-surface                 y\n",
              " cap-color                   g\n",
              " bruises                     t\n",
              " odor                        n\n",
              " gill-attachment             f\n",
              " gill-spacing                c\n",
              " gill-size                   b\n",
              " gill-color                  p\n",
              " stalk-shape                 t\n",
              " stalk-root                  b\n",
              " stalk-surface-above-ring    s\n",
              " stalk-surface-below-ring    s\n",
              " stalk-color-above-ring      w\n",
              " stalk-color-below-ring      w\n",
              " veil-type                   p\n",
              " veil-color                  w\n",
              " ring-number                 o\n",
              " ring-type                   p\n",
              " spore-print-color           n\n",
              " population                  v\n",
              " habitat                     d\n",
              " Name: 2812, dtype: object, class    e\n",
              " Name: 2812, dtype: object)"
            ]
          },
          "metadata": {
            "tags": []
          },
          "execution_count": 16
        }
      ]
    },
    {
      "cell_type": "code",
      "metadata": {
        "id": "QNrIvQF1_iq7",
        "colab_type": "code",
        "colab": {
          "base_uri": "https://localhost:8080/",
          "height": 67
        },
        "outputId": "853e10e7-0c04-43c2-9136-9803674b759c"
      },
      "source": [
        "from torch.utils.data import Dataset\n",
        "one_hots = torch.eye(3,3)\n",
        "one_hots"
      ],
      "execution_count": 18,
      "outputs": [
        {
          "output_type": "execute_result",
          "data": {
            "text/plain": [
              "tensor([[1., 0., 0.],\n",
              "        [0., 1., 0.],\n",
              "        [0., 0., 1.]])"
            ]
          },
          "metadata": {
            "tags": []
          },
          "execution_count": 18
        }
      ]
    },
    {
      "cell_type": "code",
      "metadata": {
        "id": "Ny7zlrdoAHc5",
        "colab_type": "code",
        "colab": {
          "base_uri": "https://localhost:8080/",
          "height": 34
        },
        "outputId": "f6374afb-b3cb-4395-f9dc-3baea3c9bc42"
      },
      "source": [
        "ordinals = {c:i for i,c in enumerate(['A','B','C'])}\n",
        "ordinals"
      ],
      "execution_count": 19,
      "outputs": [
        {
          "output_type": "execute_result",
          "data": {
            "text/plain": [
              "{'A': 0, 'B': 1, 'C': 2}"
            ]
          },
          "metadata": {
            "tags": []
          },
          "execution_count": 19
        }
      ]
    },
    {
      "cell_type": "code",
      "metadata": {
        "id": "DYUQL3MSAbY0",
        "colab_type": "code",
        "colab": {
          "base_uri": "https://localhost:8080/",
          "height": 34
        },
        "outputId": "b47572c9-beb6-4baf-c507-6bd274694e24"
      },
      "source": [
        "one_hots[ordinals['A']]"
      ],
      "execution_count": 20,
      "outputs": [
        {
          "output_type": "execute_result",
          "data": {
            "text/plain": [
              "tensor([1., 0., 0.])"
            ]
          },
          "metadata": {
            "tags": []
          },
          "execution_count": 20
        }
      ]
    },
    {
      "cell_type": "code",
      "metadata": {
        "id": "-UNOarYxAkeW",
        "colab_type": "code",
        "colab": {}
      },
      "source": [
        "class OneHotEncoder():\n",
        "  \n",
        "  def __init__(self,series):\n",
        "    unique_values = series.unique()\n",
        "    self.ordinals = {c:i for i, c in enumerate(unique_values)}\n",
        "    self.encoder = torch.eye(len(unique_values),len(unique_values))\n",
        "    \n",
        "  def __getitem__(self,value):\n",
        "    return self.encoder[self.ordinals[value]]\n",
        "    "
      ],
      "execution_count": 0,
      "outputs": []
    },
    {
      "cell_type": "code",
      "metadata": {
        "id": "3_P20AdjBdzh",
        "colab_type": "code",
        "colab": {}
      },
      "source": [
        "class CategoricalCSV():\n",
        "  \n",
        "  def __init__(self,datafile,output_series_name):\n",
        "    self.dataset = pd.read_csv(datafile)\n",
        "    self.output_series_name = output_series_name\n",
        "    self.encoders = {}\n",
        "    for series_name, series in self.dataset.items():\n",
        "      self.encoders[series_name] = OneHotEncoder(series)\n",
        "    \n",
        "  def __len__(self):\n",
        "    return len(self.dataset)\n",
        "  \n",
        "  def __getitem__(self,idx):    \n",
        "    if type(idx) == torch.Tensor:\n",
        "      idx = idx.item()\n",
        "    sample = self.dataset.iloc[idx]\n",
        "    output = self.encoders[self.output_series_name][sample[self.output_series_name]]\n",
        "    input_components = []\n",
        "    for name, value in sample.items():\n",
        "      if name != self.output_series_name:\n",
        "        input_components.append(self.encoders[name][value])   \n",
        "    input = torch.cat(input_components)\n",
        "    return input,output\n",
        "    "
      ],
      "execution_count": 0,
      "outputs": []
    },
    {
      "cell_type": "code",
      "metadata": {
        "id": "8QIiLWBfDhhN",
        "colab_type": "code",
        "colab": {
          "base_uri": "https://localhost:8080/",
          "height": 134
        },
        "outputId": "8c32b347-5bca-40f5-d774-9825d897a73e"
      },
      "source": [
        "shrooms = CategoricalCSV('./mushrooms.csv','class')\n",
        "shrooms[0]"
      ],
      "execution_count": 39,
      "outputs": [
        {
          "output_type": "execute_result",
          "data": {
            "text/plain": [
              "(tensor([1., 0., 0., 0., 0., 0., 1., 0., 0., 0., 1., 0., 0., 0., 0., 0., 0., 0.,\n",
              "         0., 0., 1., 0., 1., 0., 0., 0., 0., 0., 0., 0., 0., 1., 0., 1., 0., 1.,\n",
              "         0., 1., 0., 0., 0., 0., 0., 0., 0., 0., 0., 0., 0., 1., 0., 1., 0., 0.,\n",
              "         0., 0., 1., 0., 0., 0., 1., 0., 0., 0., 1., 0., 0., 0., 0., 0., 0., 0.,\n",
              "         0., 1., 0., 0., 0., 0., 0., 0., 0., 0., 1., 1., 0., 0., 0., 1., 0., 0.,\n",
              "         1., 0., 0., 0., 0., 1., 0., 0., 0., 0., 0., 0., 0., 0., 1., 0., 0., 0.,\n",
              "         0., 0., 1., 0., 0., 0., 0., 0., 0.]), tensor([1., 0.]))"
            ]
          },
          "metadata": {
            "tags": []
          },
          "execution_count": 39
        }
      ]
    },
    {
      "cell_type": "code",
      "metadata": {
        "id": "AsjCkgY2DrTm",
        "colab_type": "code",
        "colab": {}
      },
      "source": [
        "class Model(torch.nn.Module):\n",
        "  \n",
        "  def __init__(self,input_dimensions,output_dimensions,size = 128):\n",
        "    \n",
        "    super().__init__()\n",
        "    self.layer_one = torch.nn.Linear(input_dimensions, 128)\n",
        "    self.activation_one = torch.nn.ReLU()\n",
        "    self.layer_two = torch.nn.Linear(size,size)\n",
        "    self.activation_two = torch.nn.ReLU()\n",
        "    self.shape_outputs = torch.nn.Linear(size,output_dimensions)\n",
        "    \n",
        "  def forward(self,inputs):\n",
        "    x = self.layer_one(inputs)\n",
        "    x = self.activation_one(x)\n",
        "    x = self.layer_two(x)\n",
        "    x = self.activation_two(x)\n",
        "    x = self.shape_outputs(x)\n",
        "    return torch.nn.functional.softmax(x,dim = -1)"
      ],
      "execution_count": 0,
      "outputs": []
    },
    {
      "cell_type": "code",
      "metadata": {
        "id": "w6pGwbbyGDhI",
        "colab_type": "code",
        "colab": {}
      },
      "source": [
        "model = Model(shrooms[0][0].shape[0],shrooms[0][1].shape[0])\n",
        "optimizer = torch.optim.Adam(model.parameters())\n",
        "loss_function = torch.nn.BCELoss()"
      ],
      "execution_count": 0,
      "outputs": []
    },
    {
      "cell_type": "code",
      "metadata": {
        "id": "McqkJBRFIJBj",
        "colab_type": "code",
        "colab": {
          "base_uri": "https://localhost:8080/",
          "height": 34
        },
        "outputId": "6c6c5c82-3a7b-4e75-90d3-44979ac742bd"
      },
      "source": [
        "from torch.utils import data\n",
        "number_for_testing  = int(len(shrooms)*0.05)\n",
        "number_for_training = len(shrooms) - number_for_testing\n",
        "train, test = data.random_split(shrooms,[number_for_training,number_for_testing])\n",
        "len(train), len(test)"
      ],
      "execution_count": 74,
      "outputs": [
        {
          "output_type": "execute_result",
          "data": {
            "text/plain": [
              "(7718, 406)"
            ]
          },
          "metadata": {
            "tags": []
          },
          "execution_count": 74
        }
      ]
    },
    {
      "cell_type": "code",
      "metadata": {
        "id": "gJsJKMaQGf6b",
        "colab_type": "code",
        "colab": {
          "base_uri": "https://localhost:8080/",
          "height": 84
        },
        "outputId": "b65ec6fc-aa39-4d0b-b9e2-f0dd59953d3c"
      },
      "source": [
        "training = torch.utils.data.DataLoader(train,batch_size = 16,shuffle = True)\n",
        "for epoch in range(4):\n",
        "  for inputs,outputs in training:\n",
        "    optimizer.zero_grad()\n",
        "    results = model(inputs)\n",
        "    loss = loss_function(results,outputs)\n",
        "    loss.backward()\n",
        "    optimizer.step()\n",
        "  print('Loss: {}'.format(loss))"
      ],
      "execution_count": 77,
      "outputs": [
        {
          "output_type": "stream",
          "text": [
            "Loss: 1.4404461978756444e-07\n",
            "Loss: 2.4835271617007493e-08\n",
            "Loss: 3.476938204016733e-08\n",
            "Loss: 1.2914377975903335e-06\n"
          ],
          "name": "stdout"
        }
      ]
    },
    {
      "cell_type": "code",
      "metadata": {
        "id": "8dEP6-sUIjCf",
        "colab_type": "code",
        "colab": {}
      },
      "source": [
        "import sklearn.metrics"
      ],
      "execution_count": 0,
      "outputs": []
    },
    {
      "cell_type": "code",
      "metadata": {
        "id": "o3Gmtv0FG_qf",
        "colab_type": "code",
        "colab": {
          "base_uri": "https://localhost:8080/",
          "height": 34
        },
        "outputId": "a803e993-2116-41a8-ad10-1cf5a7587025"
      },
      "source": [
        "testing = torch.utils.data.DataLoader(test,batch_size = len(test), shuffle = False)\n",
        "for inputs,outputs in testing:\n",
        "  results = model(inputs).argmax(dim = 1).numpy()\n",
        "  actual = outputs.argmax(dim = 1).numpy()\n",
        "  accuracy = sklearn.metrics.accuracy_score(actual,results)\n",
        "  print(accuracy)"
      ],
      "execution_count": 82,
      "outputs": [
        {
          "output_type": "stream",
          "text": [
            "1.0\n"
          ],
          "name": "stdout"
        }
      ]
    },
    {
      "cell_type": "code",
      "metadata": {
        "id": "PP0qy8yvK4Io",
        "colab_type": "code",
        "colab": {
          "base_uri": "https://localhost:8080/",
          "height": 50
        },
        "outputId": "2fc52233-41de-4a1f-df00-b1194f70c7a0"
      },
      "source": [
        "sklearn.metrics.confusion_matrix(actual,results)"
      ],
      "execution_count": 83,
      "outputs": [
        {
          "output_type": "execute_result",
          "data": {
            "text/plain": [
              "array([[186,   0],\n",
              "       [  0, 220]])"
            ]
          },
          "metadata": {
            "tags": []
          },
          "execution_count": 83
        }
      ]
    },
    {
      "cell_type": "code",
      "metadata": {
        "id": "eXHCRMWXLTIF",
        "colab_type": "code",
        "colab": {
          "base_uri": "https://localhost:8080/",
          "height": 168
        },
        "outputId": "b6e30411-9d05-4c59-a21c-0c2ffbcbe3d8"
      },
      "source": [
        "print(sklearn.metrics.classification_report(actual,results))"
      ],
      "execution_count": 84,
      "outputs": [
        {
          "output_type": "stream",
          "text": [
            "              precision    recall  f1-score   support\n",
            "\n",
            "           0       1.00      1.00      1.00       186\n",
            "           1       1.00      1.00      1.00       220\n",
            "\n",
            "    accuracy                           1.00       406\n",
            "   macro avg       1.00      1.00      1.00       406\n",
            "weighted avg       1.00      1.00      1.00       406\n",
            "\n"
          ],
          "name": "stdout"
        }
      ]
    },
    {
      "cell_type": "code",
      "metadata": {
        "id": "RWG4tnVDLerD",
        "colab_type": "code",
        "colab": {}
      },
      "source": [
        ""
      ],
      "execution_count": 0,
      "outputs": []
    }
  ]
}