{
 "cells": [
  {
   "cell_type": "code",
   "execution_count": 24,
   "metadata": {},
   "outputs": [],
   "source": [
    "import pandas as pd \n",
    "import numpy as np\n",
    "import matplotlib.pyplot as plt\n",
    "\n",
    "from keras.models import Model\n",
    "from keras.layers import Input,LSTM,GRU,Bidirectional\n",
    "\n",
    "T = 8\n",
    "D = 2\n",
    "M = 3\n",
    "\n",
    "X = np.random.randn(1,T,D)\n",
    "\n",
    "def lstm1():\n",
    "\tinput_  = Input(shape=(T,D))\n",
    "\trnn = Bidirectional(LSTM(M,return_state=True,return_sequences = True))\n",
    "\tx = rnn(input_)\n",
    "\t\n",
    "\tmodel = Model(inputs=input_,outputs=x)\n",
    "\to,h1,c1,h2,c2= model.predict(X)\n",
    "\tprint(\"o : \", o)\n",
    "\tprint(\"h : \", h1)\n",
    "\tprint(\"c : \", c1)"
   ]
  },
  {
   "cell_type": "code",
   "execution_count": 25,
   "metadata": {
    "scrolled": true
   },
   "outputs": [
    {
     "name": "stdout",
     "output_type": "stream",
     "text": [
      "o :  [[[-0.10417201 -0.14631198 -0.10021818 -0.03058393  0.00586788\n",
      "    0.05403483]\n",
      "  [-0.14548749 -0.25330126 -0.16244256 -0.14070927  0.01175596\n",
      "    0.08323546]\n",
      "  [-0.01835188  0.02339901  0.01101747 -0.13499647  0.01395851\n",
      "   -0.03642145]\n",
      "  [-0.0089883   0.01962405  0.00090082 -0.1036272   0.01305755\n",
      "   -0.14175357]\n",
      "  [ 0.1476281   0.12048639  0.3312226  -0.02845853  0.00643431\n",
      "   -0.12738809]\n",
      "  [ 0.16241616  0.12154534  0.36582157 -0.00129471  0.00305473\n",
      "   -0.19117706]\n",
      "  [ 0.22908616  0.15114866  0.44135684 -0.02452883 -0.0169105\n",
      "   -0.0838003 ]\n",
      "  [ 0.18748294  0.18125397  0.33271644 -0.06778538 -0.00450021\n",
      "    0.08215009]]]\n",
      "h :  [[0.18748294 0.18125397 0.33271644]]\n",
      "c :  [[0.4489112  0.35183853 0.71572894]]\n"
     ]
    }
   ],
   "source": [
    "lstm1()"
   ]
  },
  {
   "cell_type": "code",
   "execution_count": null,
   "metadata": {},
   "outputs": [],
   "source": []
  }
 ],
 "metadata": {
  "kernelspec": {
   "display_name": "Python 3",
   "language": "python",
   "name": "python3"
  },
  "language_info": {
   "codemirror_mode": {
    "name": "ipython",
    "version": 3
   },
   "file_extension": ".py",
   "mimetype": "text/x-python",
   "name": "python",
   "nbconvert_exporter": "python",
   "pygments_lexer": "ipython3",
   "version": "3.6.8"
  }
 },
 "nbformat": 4,
 "nbformat_minor": 2
}
