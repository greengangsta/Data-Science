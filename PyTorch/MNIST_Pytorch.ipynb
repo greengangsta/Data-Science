{
  "nbformat": 4,
  "nbformat_minor": 0,
  "metadata": {
    "colab": {
      "name": "MNIST_Pytorch.ipynb",
      "version": "0.3.2",
      "provenance": [],
      "collapsed_sections": []
    },
    "kernelspec": {
      "name": "python3",
      "display_name": "Python 3"
    }
  },
  "cells": [
    {
      "cell_type": "code",
      "metadata": {
        "id": "_7lWbB3qSyQm",
        "colab_type": "code",
        "colab": {}
      },
      "source": [
        "import torch\n",
        "import matplotlib.pyplot as plt\n",
        "import numpy as np\n"
      ],
      "execution_count": 0,
      "outputs": []
    },
    {
      "cell_type": "code",
      "metadata": {
        "id": "ydM4em0kS-eV",
        "colab_type": "code",
        "colab": {
          "base_uri": "https://localhost:8080/",
          "height": 272
        },
        "outputId": "4839a309-ae45-4c05-9a66-72179d617b81"
      },
      "source": [
        "import torchvision\n",
        "mnist  = torchvision.datasets.MNIST('./var',download = True)"
      ],
      "execution_count": 4,
      "outputs": [
        {
          "output_type": "stream",
          "text": [
            "  0%|          | 16384/9912422 [00:00<01:28, 112234.46it/s]"
          ],
          "name": "stderr"
        },
        {
          "output_type": "stream",
          "text": [
            "Downloading http://yann.lecun.com/exdb/mnist/train-images-idx3-ubyte.gz to ./var/MNIST/raw/train-images-idx3-ubyte.gz\n"
          ],
          "name": "stdout"
        },
        {
          "output_type": "stream",
          "text": [
            "9920512it [00:00, 29258924.48it/s]                           \n"
          ],
          "name": "stderr"
        },
        {
          "output_type": "stream",
          "text": [
            "Extracting ./var/MNIST/raw/train-images-idx3-ubyte.gz\n"
          ],
          "name": "stdout"
        },
        {
          "output_type": "stream",
          "text": [
            "32768it [00:00, 426642.23it/s]\n",
            "  1%|          | 16384/1648877 [00:00<00:11, 143128.90it/s]"
          ],
          "name": "stderr"
        },
        {
          "output_type": "stream",
          "text": [
            "Downloading http://yann.lecun.com/exdb/mnist/train-labels-idx1-ubyte.gz to ./var/MNIST/raw/train-labels-idx1-ubyte.gz\n",
            "Extracting ./var/MNIST/raw/train-labels-idx1-ubyte.gz\n",
            "Downloading http://yann.lecun.com/exdb/mnist/t10k-images-idx3-ubyte.gz to ./var/MNIST/raw/t10k-images-idx3-ubyte.gz\n"
          ],
          "name": "stdout"
        },
        {
          "output_type": "stream",
          "text": [
            "1654784it [00:00, 7465410.88it/s]                            \n",
            "8192it [00:00, 172641.18it/s]\n"
          ],
          "name": "stderr"
        },
        {
          "output_type": "stream",
          "text": [
            "Extracting ./var/MNIST/raw/t10k-images-idx3-ubyte.gz\n",
            "Downloading http://yann.lecun.com/exdb/mnist/t10k-labels-idx1-ubyte.gz to ./var/MNIST/raw/t10k-labels-idx1-ubyte.gz\n",
            "Extracting ./var/MNIST/raw/t10k-labels-idx1-ubyte.gz\n",
            "Processing...\n",
            "Done!\n"
          ],
          "name": "stdout"
        }
      ]
    },
    {
      "cell_type": "code",
      "metadata": {
        "id": "Lf0t22VjTPdl",
        "colab_type": "code",
        "colab": {
          "base_uri": "https://localhost:8080/",
          "height": 45
        },
        "outputId": "df009558-a950-49d8-be9b-925d87f57bc6"
      },
      "source": [
        "mnist[0][0]"
      ],
      "execution_count": 7,
      "outputs": [
        {
          "output_type": "execute_result",
          "data": {
            "image/png": "[encoded data removed]",
            "text/plain": [
              "<PIL.Image.Image image mode=L size=28x28 at 0x7F333A4720F0>"
            ]
          },
          "metadata": {
            "tags": []
          },
          "execution_count": 7
        }
      ]
    },
    {
      "cell_type": "code",
      "metadata": {
        "id": "gyLwzEluTYw6",
        "colab_type": "code",
        "colab": {
          "base_uri": "https://localhost:8080/",
          "height": 34
        },
        "outputId": "94bb1418-0d91-448b-b7e8-6394dcc33fd5"
      },
      "source": [
        "mnist[0][1]"
      ],
      "execution_count": 8,
      "outputs": [
        {
          "output_type": "execute_result",
          "data": {
            "text/plain": [
              "5"
            ]
          },
          "metadata": {
            "tags": []
          },
          "execution_count": 8
        }
      ]
    },
    {
      "cell_type": "code",
      "metadata": {
        "id": "-2eqwr0bTgMo",
        "colab_type": "code",
        "colab": {}
      },
      "source": [
        "import torchvision.transforms as transforms\n",
        "transform = transforms.Compose(\n",
        "      [transforms.ToTensor(),transforms.Normalize([0.5],[0.5])])\n",
        "train = torchvision.datasets.MNIST('./var',train = True,transform = transform)\n",
        "train_loader = torch.utils.data.DataLoader(train,batch_size = 32, shuffle = True)\n",
        "test = torchvision.datasets.MNIST('./var',train = False,transform = transform)\n",
        "test_loader = torch.utils.data.DataLoader(test,batch_size = len(test),shuffle = False)"
      ],
      "execution_count": 0,
      "outputs": []
    },
    {
      "cell_type": "code",
      "metadata": {
        "id": "tuvaywtmUv9K",
        "colab_type": "code",
        "colab": {}
      },
      "source": [
        "import torch.nn as nn\n",
        "import torch.nn.functional as F"
      ],
      "execution_count": 0,
      "outputs": []
    },
    {
      "cell_type": "code",
      "metadata": {
        "id": "u9qqZzQUVIKl",
        "colab_type": "code",
        "colab": {}
      },
      "source": [
        "class Net(nn.Module):\n",
        "  \n",
        "  def __init__(self):\n",
        "    super(Net,self).__init__()\n",
        "    self.conv1 = nn.Conv2d(1,3,3)\n",
        "    self.pool = nn.MaxPool2d(2,2)\n",
        "    self.conv2 = nn.Conv2d(3,6,3)\n",
        "    self.fc1 = nn.Linear(150,128)\n",
        "    self.fc2 = nn.Linear(128,128)\n",
        "    self.fc3 = nn.Linear(128,10)\n",
        "    \n",
        "  def forward(self,x):\n",
        "    x  = self.pool(F.relu(self.conv1(x)))\n",
        "    x = self.pool(F.relu(self.conv2(x)))\n",
        "    x = x.flatten(start_dim = 1)\n",
        "    #print(x.shape)\n",
        "    x = F.relu(self.fc1(x))\n",
        "    x = F.relu(self.fc2(x))\n",
        "    x = self.fc3(x)\n",
        "    return x\n",
        "  "
      ],
      "execution_count": 0,
      "outputs": []
    },
    {
      "cell_type": "code",
      "metadata": {
        "id": "mvynwd9eW2e7",
        "colab_type": "code",
        "colab": {}
      },
      "source": [
        "net = Net()"
      ],
      "execution_count": 0,
      "outputs": []
    },
    {
      "cell_type": "code",
      "metadata": {
        "id": "h6DokpdnW3ow",
        "colab_type": "code",
        "colab": {}
      },
      "source": [
        "import torch.optim as optim\n",
        "loss_function = nn.CrossEntropyLoss()\n",
        "optimizer = optim.Adam(net.parameters())"
      ],
      "execution_count": 0,
      "outputs": []
    },
    {
      "cell_type": "code",
      "metadata": {
        "id": "Yf4amRAGXN6t",
        "colab_type": "code",
        "colab": {
          "base_uri": "https://localhost:8080/",
          "height": 286
        },
        "outputId": "283d4e8d-382a-4dfb-c640-2145d952a833"
      },
      "source": [
        "for epoch in range(16):\n",
        "  for inputs,outputs in train_loader:\n",
        "    optimizer.zero_grad()\n",
        "    results = net(inputs)\n",
        "    loss = loss_function(results,outputs)\n",
        "    loss.backward()\n",
        "    optimizer.step()\n",
        "  print('Loss : {0}'.format(loss))"
      ],
      "execution_count": 39,
      "outputs": [
        {
          "output_type": "stream",
          "text": [
            "Loss : 0.12881939113140106\n",
            "Loss : 0.1587119698524475\n",
            "Loss : 0.015036791563034058\n",
            "Loss : 0.014803655445575714\n",
            "Loss : 0.00043514370918273926\n",
            "Loss : 0.009703665971755981\n",
            "Loss : 0.16764798760414124\n",
            "Loss : 0.009087517857551575\n",
            "Loss : 0.02014591544866562\n",
            "Loss : 0.0015408247709274292\n",
            "Loss : 0.0006635934114456177\n",
            "Loss : 0.0018289685249328613\n",
            "Loss : 0.0005035102367401123\n",
            "Loss : 0.004182666540145874\n",
            "Loss : 0.0022847354412078857\n",
            "Loss : 0.00104580819606781\n"
          ],
          "name": "stdout"
        }
      ]
    },
    {
      "cell_type": "code",
      "metadata": {
        "id": "YjVXn94AXrGF",
        "colab_type": "code",
        "colab": {
          "base_uri": "https://localhost:8080/",
          "height": 319
        },
        "outputId": "0c3bf9ff-63c2-4088-cfd2-280fda789aa3"
      },
      "source": [
        "import sklearn.metrics\n",
        "for inputs, actual in test_loader:\n",
        "  results = net(inputs).argmax(dim=1).numpy()\n",
        "  accuracy = sklearn.metrics.accuracy_score(actual,results)\n",
        "  print(accuracy)\n",
        "print(sklearn.metrics.classification_report(actual,results))"
      ],
      "execution_count": 41,
      "outputs": [
        {
          "output_type": "stream",
          "text": [
            "0.9861\n",
            "              precision    recall  f1-score   support\n",
            "\n",
            "           0       0.98      0.99      0.99       980\n",
            "           1       0.99      0.99      0.99      1135\n",
            "           2       0.98      0.99      0.99      1032\n",
            "           3       0.98      0.99      0.99      1010\n",
            "           4       0.99      0.99      0.99       982\n",
            "           5       0.98      0.98      0.98       892\n",
            "           6       0.99      0.98      0.99       958\n",
            "           7       0.98      0.99      0.98      1028\n",
            "           8       0.99      0.98      0.98       974\n",
            "           9       0.99      0.97      0.98      1009\n",
            "\n",
            "    accuracy                           0.99     10000\n",
            "   macro avg       0.99      0.99      0.99     10000\n",
            "weighted avg       0.99      0.99      0.99     10000\n",
            "\n"
          ],
          "name": "stdout"
        }
      ]
    },
    {
      "cell_type": "code",
      "metadata": {
        "id": "XKBMEHZebVPE",
        "colab_type": "code",
        "colab": {}
      },
      "source": [
        ""
      ],
      "execution_count": 0,
      "outputs": []
    }
  ]
}