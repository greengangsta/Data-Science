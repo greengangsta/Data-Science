{
 "cells": [
  {
   "cell_type": "code",
   "execution_count": 26,
   "metadata": {},
   "outputs": [],
   "source": [
    "import pandas as pd \n",
    "import numpy as np\n",
    "import matplotlib.pyplot as plt\n",
    "\n",
    "from keras.models import Model\n",
    "from keras.layers import Input,LSTM,GRU,Bidirectional\n",
    "\n",
    "T = 8\n",
    "D = 2\n",
    "M = 3\n",
    "\n",
    "X = np.random.randn(1,T,D)\n",
    "\n",
    "def lstm1():\n",
    "\tinput_  = Input(shape=(T,D))\n",
    "\trnn = Bidirectional(LSTM(M,return_state=True,return_sequences = True))\n",
    "\tx = rnn(input_)\n",
    "\t\n",
    "\tmodel = Model(inputs=input_,outputs=x)\n",
    "\to,h1,c1,h2,c2= model.predict(X)\n",
    "\tprint(\"o : \", o)\n",
    "\tprint(\"h : \", h1)\n",
    "\tprint(\"c : \", c1)"
   ]
  },
  {
   "cell_type": "code",
   "execution_count": 27,
   "metadata": {
    "scrolled": true
   },
   "outputs": [
    {
     "name": "stdout",
     "output_type": "stream",
     "text": [
      "o :  [[[ 0.12568401 -0.04576057  0.09882729  0.1138269   0.09717921\n",
      "   -0.1304249 ]\n",
      "  [-0.05901553 -0.13361761  0.01637839  0.22413096  0.05017688\n",
      "   -0.1209207 ]\n",
      "  [-0.09581218 -0.07691202 -0.02093673  0.10228119  0.05951768\n",
      "   -0.06169553]\n",
      "  [ 0.04727557 -0.12079856  0.03551004  0.15740563  0.12832\n",
      "   -0.16905157]\n",
      "  [ 0.14683515 -0.18827462  0.10840004  0.11381344  0.16320749\n",
      "   -0.17518099]\n",
      "  [ 0.23534696 -0.21222459  0.18052019  0.13614774  0.10782454\n",
      "   -0.1636852 ]\n",
      "  [ 0.17817366 -0.23408361  0.17228368  0.14320056  0.0753352\n",
      "   -0.123128  ]\n",
      "  [ 0.2081043  -0.37065816  0.14148577  0.06398968  0.09926917\n",
      "   -0.06638278]]]\n",
      "h :  [[ 0.2081043  -0.37065816  0.14148577]]\n",
      "c :  [[ 0.4400325  -0.6053932   0.45847487]]\n"
     ]
    }
   ],
   "source": [
    "lstm1()"
   ]
  },
  {
   "cell_type": "code",
   "execution_count": null,
   "metadata": {},
   "outputs": [],
   "source": []
  }
 ],
 "metadata": {
  "kernelspec": {
   "display_name": "Python 3",
   "language": "python",
   "name": "python3"
  },
  "language_info": {
   "codemirror_mode": {
    "name": "ipython",
    "version": 3
   },
   "file_extension": ".py",
   "mimetype": "text/x-python",
   "name": "python",
   "nbconvert_exporter": "python",
   "pygments_lexer": "ipython3",
   "version": "3.6.8"
  }
 },
 "nbformat": 4,
 "nbformat_minor": 2
}
