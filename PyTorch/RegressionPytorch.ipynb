{
  "nbformat": 4,
  "nbformat_minor": 0,
  "metadata": {
    "colab": {
      "name": "RegressionPytorch.ipynb",
      "version": "0.3.2",
      "provenance": [],
      "collapsed_sections": []
    },
    "kernelspec": {
      "name": "python3",
      "display_name": "Python 3"
    }
  },
  "cells": [
    {
      "cell_type": "code",
      "metadata": {
        "id": "5X95zMZQdQj4",
        "colab_type": "code",
        "colab": {}
      },
      "source": [
        "import torch\n",
        "import pandas as pd"
      ],
      "execution_count": 0,
      "outputs": []
    },
    {
      "cell_type": "code",
      "metadata": {
        "id": "zhzlXePKe4e6",
        "colab_type": "code",
        "colab": {}
      },
      "source": [
        "class OneHotEncoder():\n",
        "  \n",
        "  def __init__(self,series):\n",
        "    unique_values = series.unique()\n",
        "    self.ordinals = {c:i for i, c in enumerate(unique_values)}\n",
        "    self.encoder = torch.eye(len(unique_values),len(unique_values))\n",
        "    \n",
        "  def __getitem__(self,value):\n",
        "    return self.encoder[self.ordinals[value]]"
      ],
      "execution_count": 0,
      "outputs": []
    },
    {
      "cell_type": "code",
      "metadata": {
        "id": "ULChbqOWfx1F",
        "colab_type": "code",
        "colab": {
          "base_uri": "https://localhost:8080/",
          "height": 386
        },
        "outputId": "1f6f1a06-8158-4d47-dfef-12b096b2164a"
      },
      "source": [
        "look = pd.read_csv('./kc_house_data.csv')\n",
        "look.iloc[0]"
      ],
      "execution_count": 3,
      "outputs": [
        {
          "output_type": "execute_result",
          "data": {
            "text/plain": [
              "id                    7129300520\n",
              "date             20141013T000000\n",
              "price                     221900\n",
              "bedrooms                       3\n",
              "bathrooms                      1\n",
              "sqft_living                 1180\n",
              "sqft_lot                    5650\n",
              "floors                         1\n",
              "waterfront                     0\n",
              "view                           0\n",
              "condition                      3\n",
              "grade                          7\n",
              "sqft_above                  1180\n",
              "sqft_basement                  0\n",
              "yr_built                    1955\n",
              "yr_renovated                   0\n",
              "zipcode                    98178\n",
              "lat                      47.5112\n",
              "long                    -122.257\n",
              "sqft_living15               1340\n",
              "sqft_lot15                  5650\n",
              "Name: 0, dtype: object"
            ]
          },
          "metadata": {
            "tags": []
          },
          "execution_count": 3
        }
      ]
    },
    {
      "cell_type": "code",
      "metadata": {
        "id": "TtpDqHkwf8up",
        "colab_type": "code",
        "colab": {}
      },
      "source": [
        "categorical = ['waterfront','view','condition','grade']"
      ],
      "execution_count": 0,
      "outputs": []
    },
    {
      "cell_type": "code",
      "metadata": {
        "id": "_d5ss7EBgWfH",
        "colab_type": "code",
        "colab": {}
      },
      "source": [
        "discard = ['id']"
      ],
      "execution_count": 0,
      "outputs": []
    },
    {
      "cell_type": "code",
      "metadata": {
        "id": "i3nAeqsXgdnp",
        "colab_type": "code",
        "colab": {}
      },
      "source": [
        "import dateutil"
      ],
      "execution_count": 0,
      "outputs": []
    },
    {
      "cell_type": "code",
      "metadata": {
        "id": "oM9ewFYPggkK",
        "colab_type": "code",
        "colab": {}
      },
      "source": [
        "class DateEncoder():\n",
        "  \n",
        "  def __getitem__(self,datestring):\n",
        "    parsed = dateutil.parser.parse(datestring)\n",
        "    return torch.Tensor([parsed.year,parsed.month,parsed.day])"
      ],
      "execution_count": 0,
      "outputs": []
    },
    {
      "cell_type": "code",
      "metadata": {
        "id": "J-HRqfyZg9lp",
        "colab_type": "code",
        "colab": {
          "base_uri": "https://localhost:8080/",
          "height": 34
        },
        "outputId": "ed8e5382-dcbc-4f5e-b60d-7e8047aa58cf"
      },
      "source": [
        "dates = ['date']\n",
        "DateEncoder()['20141013T000000']"
      ],
      "execution_count": 14,
      "outputs": [
        {
          "output_type": "execute_result",
          "data": {
            "text/plain": [
              "tensor([2014.,   10.,   13.])"
            ]
          },
          "metadata": {
            "tags": []
          },
          "execution_count": 14
        }
      ]
    },
    {
      "cell_type": "code",
      "metadata": {
        "id": "1kicX-6HhL_h",
        "colab_type": "code",
        "colab": {}
      },
      "source": [
        "from torch.utils.data import Dataset"
      ],
      "execution_count": 0,
      "outputs": []
    },
    {
      "cell_type": "code",
      "metadata": {
        "id": "OIu0GhfMh6SR",
        "colab_type": "code",
        "colab": {}
      },
      "source": [
        "class MixedCSV(Dataset):\n",
        "  def __init__(self,datafile,output_series_name,date_series_names,categorical_series_names,ignore_series_names):\n",
        "    self.dataset = pd.read_csv('./kc_house_data.csv')\n",
        "    self.output_series_name = output_series_name\n",
        "    self.encoders = {}\n",
        "    for series_name in date_series_names:\n",
        "      self.encoders[series_name] = DateEncoder()\n",
        "    for series_name in categorical_series_names:\n",
        "      self.encoders[series_name] = OneHotEncoder(self.dataset[series_name])\n",
        "    self.ignore = ignore_series_names\n",
        "   \n",
        "  def __len__(self):\n",
        "    return len(self.dataset)\n",
        "   \n",
        "  def __getitem__(self,idx):\n",
        "    if type(idx) == torch.Tensor:\n",
        "      idx = idx.item()\n",
        "    sample = self.dataset.iloc[idx]\n",
        "    output = torch.Tensor([sample[self.output_series_name]])\n",
        "    \n",
        "    input_components = []\n",
        "    for name,value in sample.items():\n",
        "      if name in self.ignore:\n",
        "        continue\n",
        "      elif name in self.encoders:\n",
        "        input_components.append(self.encoders[name][value])\n",
        "      else :\n",
        "        input_components.append(torch.Tensor([value]))\n",
        "     \n",
        "    input = torch.cat(input_components)\n",
        "    return input,output\n",
        "  \n",
        "      "
      ],
      "execution_count": 0,
      "outputs": []
    },
    {
      "cell_type": "code",
      "metadata": {
        "id": "tdcj7G3dkuJG",
        "colab_type": "code",
        "colab": {
          "base_uri": "https://localhost:8080/",
          "height": 168
        },
        "outputId": "070cc626-d627-49d9-d230-3cdb7d127247"
      },
      "source": [
        "houses = MixedCSV('./kc_house_data.csv','price',dates,categorical,discard)\n",
        "houses[0]"
      ],
      "execution_count": 25,
      "outputs": [
        {
          "output_type": "execute_result",
          "data": {
            "text/plain": [
              "(tensor([ 2.0140e+03,  1.0000e+01,  1.3000e+01,  2.2190e+05,  3.0000e+00,\n",
              "          1.0000e+00,  1.1800e+03,  5.6500e+03,  1.0000e+00,  1.0000e+00,\n",
              "          0.0000e+00,  1.0000e+00,  0.0000e+00,  0.0000e+00,  0.0000e+00,\n",
              "          0.0000e+00,  1.0000e+00,  0.0000e+00,  0.0000e+00,  0.0000e+00,\n",
              "          0.0000e+00,  1.0000e+00,  0.0000e+00,  0.0000e+00,  0.0000e+00,\n",
              "          0.0000e+00,  0.0000e+00,  0.0000e+00,  0.0000e+00,  0.0000e+00,\n",
              "          0.0000e+00,  0.0000e+00,  0.0000e+00,  1.1800e+03,  0.0000e+00,\n",
              "          1.9550e+03,  0.0000e+00,  9.8178e+04,  4.7511e+01, -1.2226e+02,\n",
              "          1.3400e+03,  5.6500e+03]), tensor([221900.]))"
            ]
          },
          "metadata": {
            "tags": []
          },
          "execution_count": 25
        }
      ]
    },
    {
      "cell_type": "code",
      "metadata": {
        "id": "VsIkwGP0k7Bf",
        "colab_type": "code",
        "colab": {}
      },
      "source": [
        ""
      ],
      "execution_count": 0,
      "outputs": []
    }
  ]
}