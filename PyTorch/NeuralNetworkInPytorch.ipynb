{
  "nbformat": 4,
  "nbformat_minor": 0,
  "metadata": {
    "colab": {
      "name": "NeuralNetworkInPytorch.ipynb",
      "version": "0.3.2",
      "provenance": [],
      "collapsed_sections": []
    },
    "kernelspec": {
      "name": "python3",
      "display_name": "Python 3"
    }
  },
  "cells": [
    {
      "cell_type": "code",
      "metadata": {
        "id": "FT_j2DcP6QWD",
        "colab_type": "code",
        "colab": {}
      },
      "source": [
        "import torch\n",
        "import matplotlib.pyplot as plt\n",
        "plt.style.use('ggplot')"
      ],
      "execution_count": 0,
      "outputs": []
    },
    {
      "cell_type": "code",
      "metadata": {
        "id": "mGR-iCXL6X52",
        "colab_type": "code",
        "colab": {}
      },
      "source": [
        "inputs = torch.rand(1,1,64,64)"
      ],
      "execution_count": 0,
      "outputs": []
    },
    {
      "cell_type": "code",
      "metadata": {
        "id": "QgR8pK-h6cCz",
        "colab_type": "code",
        "colab": {
          "base_uri": "https://localhost:8080/",
          "height": 134
        },
        "outputId": "b7b52a21-7371-4f5b-de35-9f505f2c7d8d"
      },
      "source": [
        "inputs"
      ],
      "execution_count": 3,
      "outputs": [
        {
          "output_type": "execute_result",
          "data": {
            "text/plain": [
              "tensor([[[[0.9185, 0.6781, 0.9990,  ..., 0.9336, 0.1533, 0.5972],\n",
              "          [0.6583, 0.2660, 0.1666,  ..., 0.0329, 0.9626, 0.3087],\n",
              "          [0.7044, 0.8380, 0.4594,  ..., 0.0077, 0.7631, 0.8393],\n",
              "          ...,\n",
              "          [0.2946, 0.7941, 0.0054,  ..., 0.4647, 0.0446, 0.4784],\n",
              "          [0.4855, 0.9234, 0.2502,  ..., 0.7435, 0.7754, 0.0032],\n",
              "          [0.1917, 0.2661, 0.4489,  ..., 0.5662, 0.4389, 0.4716]]]])"
            ]
          },
          "metadata": {
            "tags": []
          },
          "execution_count": 3
        }
      ]
    },
    {
      "cell_type": "code",
      "metadata": {
        "id": "uO0EqK_c6dNj",
        "colab_type": "code",
        "colab": {
          "base_uri": "https://localhost:8080/",
          "height": 34
        },
        "outputId": "d4aafc27-f5d6-49d1-9ba3-d3467c8538b2"
      },
      "source": [
        "outputs = torch.rand(1,2)\n",
        "outputs"
      ],
      "execution_count": 4,
      "outputs": [
        {
          "output_type": "execute_result",
          "data": {
            "text/plain": [
              "tensor([[0.1478, 0.4020]])"
            ]
          },
          "metadata": {
            "tags": []
          },
          "execution_count": 4
        }
      ]
    },
    {
      "cell_type": "code",
      "metadata": {
        "id": "tG30KT8s6jrc",
        "colab_type": "code",
        "colab": {}
      },
      "source": [
        "model = torch.nn.Sequential(\n",
        "   torch.nn.Linear(64,256),\n",
        "   torch.nn.Linear(256,256),\n",
        "   torch.nn.Linear(256,2)\n",
        ")"
      ],
      "execution_count": 0,
      "outputs": []
    },
    {
      "cell_type": "code",
      "metadata": {
        "id": "lqmj0YVU625k",
        "colab_type": "code",
        "colab": {
          "base_uri": "https://localhost:8080/",
          "height": 1000
        },
        "outputId": "58e6cb4a-75d1-4430-d0d9-24f365575e31"
      },
      "source": [
        "result = model(inputs)\n",
        "result"
      ],
      "execution_count": 10,
      "outputs": [
        {
          "output_type": "execute_result",
          "data": {
            "text/plain": [
              "tensor([[[[-5.0525e-02, -1.2240e-01],\n",
              "          [ 3.6981e-02, -1.2547e-01],\n",
              "          [ 5.8408e-02, -1.2245e-01],\n",
              "          [ 7.0527e-02, -3.9395e-03],\n",
              "          [-3.6483e-02, -2.3108e-01],\n",
              "          [ 8.8311e-02, -1.6410e-01],\n",
              "          [ 7.5305e-02, -1.4364e-01],\n",
              "          [ 8.5206e-02, -2.3335e-01],\n",
              "          [-8.9446e-03, -5.3814e-02],\n",
              "          [ 1.7663e-03, -1.8261e-01],\n",
              "          [ 4.0477e-02, -8.9860e-02],\n",
              "          [-6.6152e-02, -2.3880e-01],\n",
              "          [ 1.3637e-02, -1.6606e-01],\n",
              "          [ 1.7099e-03, -1.6510e-01],\n",
              "          [ 1.1932e-01, -9.7050e-02],\n",
              "          [ 5.5436e-02, -4.0126e-02],\n",
              "          [ 1.7129e-02, -1.9654e-01],\n",
              "          [ 2.4619e-02, -1.2540e-01],\n",
              "          [ 3.6333e-02, -1.4166e-01],\n",
              "          [-7.2794e-02, -5.6326e-02],\n",
              "          [ 2.6092e-02, -1.4242e-01],\n",
              "          [-2.6394e-02, -5.7179e-02],\n",
              "          [-2.0374e-02, -2.3849e-01],\n",
              "          [ 2.5805e-03, -1.8572e-01],\n",
              "          [ 2.9408e-02, -1.2392e-01],\n",
              "          [-7.2017e-02, -1.7707e-01],\n",
              "          [-5.4495e-02, -1.3355e-01],\n",
              "          [ 4.6140e-04, -1.3730e-01],\n",
              "          [-3.3202e-02, -1.1184e-01],\n",
              "          [-1.3282e-02, -7.6578e-02],\n",
              "          [ 1.7773e-02, -8.9506e-02],\n",
              "          [-6.0825e-02, -6.3995e-02],\n",
              "          [ 2.8642e-02, -1.6372e-01],\n",
              "          [-5.2601e-02, -2.0594e-01],\n",
              "          [-1.6466e-05, -5.3430e-02],\n",
              "          [ 9.3087e-03, -1.5385e-01],\n",
              "          [-4.3532e-02, -5.4791e-02],\n",
              "          [-7.4455e-03, -1.7805e-01],\n",
              "          [ 4.5756e-02, -1.9104e-01],\n",
              "          [ 2.8962e-02, -1.1795e-01],\n",
              "          [-8.0705e-02, -1.1569e-01],\n",
              "          [ 7.3552e-02, -1.1923e-01],\n",
              "          [-9.5003e-02, -2.4779e-01],\n",
              "          [ 9.7342e-02, -3.5809e-02],\n",
              "          [-6.6118e-02, -1.2185e-01],\n",
              "          [ 2.4477e-02, -1.5328e-01],\n",
              "          [-3.0002e-02, -2.0496e-01],\n",
              "          [ 1.5563e-02, -2.2468e-01],\n",
              "          [-7.9071e-02, -2.5363e-01],\n",
              "          [-5.7942e-02, -1.3062e-01],\n",
              "          [-5.8560e-02, -1.4555e-01],\n",
              "          [ 5.2661e-02, -1.5867e-01],\n",
              "          [ 2.4222e-02, -6.8809e-02],\n",
              "          [-1.3065e-02, -2.1328e-01],\n",
              "          [-3.2110e-02, -1.4952e-01],\n",
              "          [-6.6500e-03, -1.8380e-01],\n",
              "          [ 2.3592e-02, -1.9236e-01],\n",
              "          [-1.1603e-01, -2.5397e-01],\n",
              "          [ 2.4035e-02, -7.3986e-02],\n",
              "          [ 2.1904e-03, -9.1832e-02],\n",
              "          [-5.6577e-02, -1.1300e-01],\n",
              "          [-5.7806e-02, -2.0085e-01],\n",
              "          [-7.8725e-02, -1.6424e-01],\n",
              "          [-3.9032e-02, -1.0315e-01]]]], grad_fn=<AddBackward0>)"
            ]
          },
          "metadata": {
            "tags": []
          },
          "execution_count": 10
        }
      ]
    },
    {
      "cell_type": "code",
      "metadata": {
        "id": "rXTls7_77Dfe",
        "colab_type": "code",
        "colab": {
          "base_uri": "https://localhost:8080/",
          "height": 34
        },
        "outputId": "560d2d42-43f5-4f8b-ade1-de438f2ad884"
      },
      "source": [
        "result.shape"
      ],
      "execution_count": 11,
      "outputs": [
        {
          "output_type": "execute_result",
          "data": {
            "text/plain": [
              "torch.Size([1, 1, 64, 2])"
            ]
          },
          "metadata": {
            "tags": []
          },
          "execution_count": 11
        }
      ]
    },
    {
      "cell_type": "code",
      "metadata": {
        "id": "ipq2qZ-e7LEk",
        "colab_type": "code",
        "colab": {
          "base_uri": "https://localhost:8080/",
          "height": 339
        },
        "outputId": "1a98af40-17ac-4852-d49c-2466ad4bd5e9"
      },
      "source": [
        "x = torch.range(-1,1,0.1)\n",
        "y = torch.nn.functional.relu(x)\n",
        "plt.plot(x.numpy(),y.numpy())"
      ],
      "execution_count": 13,
      "outputs": [
        {
          "output_type": "stream",
          "text": [
            "/usr/local/lib/python3.6/dist-packages/ipykernel_launcher.py:1: UserWarning: torch.range is deprecated in favor of torch.arange and will be removed in 0.5. Note that arange generates values in [start; end), not [start; end].\n",
            "  \"\"\"Entry point for launching an IPython kernel.\n"
          ],
          "name": "stderr"
        },
        {
          "output_type": "execute_result",
          "data": {
            "text/plain": [
              "[<matplotlib.lines.Line2D at 0x7f4559639c88>]"
            ]
          },
          "metadata": {
            "tags": []
          },
          "execution_count": 13
        },
        {
          "output_type": "display_data",
          "data": {
            "image/png": "[encoded data removed]",
            "text/plain": [
              "<Figure size 432x288 with 1 Axes>"
            ]
          },
          "metadata": {
            "tags": []
          }
        }
      ]
    },
    {
      "cell_type": "code",
      "metadata": {
        "id": "Hvk3XzvY70a7",
        "colab_type": "code",
        "colab": {}
      },
      "source": [
        "model = torch.nn.Sequential(\n",
        " torch.nn.Linear(64,256),\n",
        " torch.nn.ReLU(),\n",
        " torch.nn.Linear(256,256),\n",
        " torch.nn.ReLU(),\n",
        " torch.nn.Linear(256,2)\n",
        ")"
      ],
      "execution_count": 0,
      "outputs": []
    },
    {
      "cell_type": "code",
      "metadata": {
        "id": "egfjg-OK8iuG",
        "colab_type": "code",
        "colab": {}
      },
      "source": [
        "results = model(inputs)"
      ],
      "execution_count": 0,
      "outputs": []
    },
    {
      "cell_type": "code",
      "metadata": {
        "id": "EhIpGuCg8lGR",
        "colab_type": "code",
        "colab": {
          "base_uri": "https://localhost:8080/",
          "height": 87
        },
        "outputId": "2753760f-b4d2-4843-8ff0-30ef0fcb6464"
      },
      "source": [
        "loss = torch.nn.MSELoss()(results,outputs)\n",
        "loss"
      ],
      "execution_count": 17,
      "outputs": [
        {
          "output_type": "stream",
          "text": [
            "/usr/local/lib/python3.6/dist-packages/torch/nn/modules/loss.py:443: UserWarning: Using a target size (torch.Size([1, 2])) that is different to the input size (torch.Size([1, 1, 64, 2])). This will likely lead to incorrect results due to broadcasting. Please ensure they have the same size.\n",
            "  return F.mse_loss(input, target, reduction=self.reduction)\n"
          ],
          "name": "stderr"
        },
        {
          "output_type": "execute_result",
          "data": {
            "text/plain": [
              "tensor(0.0491, grad_fn=<MseLossBackward>)"
            ]
          },
          "metadata": {
            "tags": []
          },
          "execution_count": 17
        }
      ]
    },
    {
      "cell_type": "code",
      "metadata": {
        "id": "nzDnEPlS8s9x",
        "colab_type": "code",
        "colab": {
          "base_uri": "https://localhost:8080/",
          "height": 1000
        },
        "outputId": "7175c028-0add-4b97-f46e-cb54bbc721f0"
      },
      "source": [
        "test_results = model(inputs)\n",
        "test_results"
      ],
      "execution_count": 19,
      "outputs": [
        {
          "output_type": "execute_result",
          "data": {
            "text/plain": [
              "tensor([[[[-0.0053,  0.0761],\n",
              "          [ 0.0234,  0.1756],\n",
              "          [-0.0210,  0.1225],\n",
              "          [-0.0100,  0.1197],\n",
              "          [ 0.0190,  0.1426],\n",
              "          [ 0.0106,  0.1299],\n",
              "          [-0.0248,  0.1000],\n",
              "          [-0.0121,  0.1059],\n",
              "          [ 0.0261,  0.1047],\n",
              "          [-0.0258,  0.1217],\n",
              "          [-0.0030,  0.1343],\n",
              "          [ 0.0305,  0.1616],\n",
              "          [ 0.0380,  0.0787],\n",
              "          [ 0.0188,  0.1310],\n",
              "          [ 0.0140,  0.1587],\n",
              "          [-0.0019,  0.1092],\n",
              "          [-0.0056,  0.1182],\n",
              "          [ 0.0294,  0.1155],\n",
              "          [-0.0002,  0.1010],\n",
              "          [ 0.0337,  0.1239],\n",
              "          [ 0.0262,  0.1383],\n",
              "          [ 0.0180,  0.0812],\n",
              "          [ 0.0127,  0.1245],\n",
              "          [ 0.0622,  0.1343],\n",
              "          [ 0.0195,  0.1313],\n",
              "          [ 0.0442,  0.1609],\n",
              "          [ 0.0323,  0.1161],\n",
              "          [ 0.0240,  0.1599],\n",
              "          [ 0.0125,  0.1134],\n",
              "          [ 0.0355,  0.0824],\n",
              "          [ 0.0096,  0.1327],\n",
              "          [-0.0271,  0.1246],\n",
              "          [-0.0023,  0.1487],\n",
              "          [-0.0304,  0.1745],\n",
              "          [ 0.0062,  0.1209],\n",
              "          [-0.0079,  0.1103],\n",
              "          [-0.0097,  0.1246],\n",
              "          [ 0.0149,  0.1667],\n",
              "          [ 0.0047,  0.1368],\n",
              "          [ 0.0254,  0.1078],\n",
              "          [-0.0213,  0.1447],\n",
              "          [ 0.0148,  0.1464],\n",
              "          [-0.0091,  0.1321],\n",
              "          [ 0.0317,  0.1056],\n",
              "          [-0.0052,  0.1270],\n",
              "          [ 0.0137,  0.1116],\n",
              "          [ 0.0064,  0.1242],\n",
              "          [ 0.0168,  0.0908],\n",
              "          [-0.0291,  0.1290],\n",
              "          [-0.0068,  0.1255],\n",
              "          [ 0.0307,  0.1193],\n",
              "          [-0.0223,  0.0991],\n",
              "          [-0.0478,  0.1282],\n",
              "          [-0.0069,  0.0894],\n",
              "          [ 0.0222,  0.1273],\n",
              "          [-0.0307,  0.1160],\n",
              "          [-0.0035,  0.1163],\n",
              "          [ 0.0354,  0.1525],\n",
              "          [ 0.0056,  0.1007],\n",
              "          [ 0.0196,  0.1101],\n",
              "          [ 0.0221,  0.1137],\n",
              "          [-0.0073,  0.1226],\n",
              "          [-0.0019,  0.0907],\n",
              "          [ 0.0206,  0.1719]]]], grad_fn=<AddBackward0>)"
            ]
          },
          "metadata": {
            "tags": []
          },
          "execution_count": 19
        }
      ]
    },
    {
      "cell_type": "code",
      "metadata": {
        "id": "v0gzZf2Q9EMZ",
        "colab_type": "code",
        "colab": {
          "base_uri": "https://localhost:8080/",
          "height": 87
        },
        "outputId": "459cacd9-56f9-4b9e-d284-a0ba8f4d0340"
      },
      "source": [
        "loss = torch.nn.MSELoss()(test_results,outputs)\n",
        "loss"
      ],
      "execution_count": 21,
      "outputs": [
        {
          "output_type": "stream",
          "text": [
            "/usr/local/lib/python3.6/dist-packages/torch/nn/modules/loss.py:443: UserWarning: Using a target size (torch.Size([1, 2])) that is different to the input size (torch.Size([1, 1, 64, 2])). This will likely lead to incorrect results due to broadcasting. Please ensure they have the same size.\n",
            "  return F.mse_loss(input, target, reduction=self.reduction)\n"
          ],
          "name": "stderr"
        },
        {
          "output_type": "execute_result",
          "data": {
            "text/plain": [
              "tensor(0.0491, grad_fn=<MseLossBackward>)"
            ]
          },
          "metadata": {
            "tags": []
          },
          "execution_count": 21
        }
      ]
    },
    {
      "cell_type": "code",
      "metadata": {
        "id": "aYfS-NCi9MM9",
        "colab_type": "code",
        "colab": {}
      },
      "source": [
        "model.zero_grad()\n",
        "loss.backward()"
      ],
      "execution_count": 0,
      "outputs": []
    },
    {
      "cell_type": "code",
      "metadata": {
        "id": "uBHNpJSH9goI",
        "colab_type": "code",
        "colab": {}
      },
      "source": [
        "learning_rate  = 0.001\n",
        "for parameter in model.parameters():\n",
        "  parameter.data -= parameter.grad.data*learning_rate"
      ],
      "execution_count": 0,
      "outputs": []
    },
    {
      "cell_type": "code",
      "metadata": {
        "id": "cV6CU01g94zC",
        "colab_type": "code",
        "colab": {}
      },
      "source": [
        "after_learning = model(inputs)"
      ],
      "execution_count": 0,
      "outputs": []
    },
    {
      "cell_type": "code",
      "metadata": {
        "id": "kFlu0zbq-K9j",
        "colab_type": "code",
        "colab": {
          "base_uri": "https://localhost:8080/",
          "height": 87
        },
        "outputId": "8df226b3-1cda-4c92-e476-4b0ae6e0f820"
      },
      "source": [
        "loss_after_learning = torch.nn.MSELoss()(after_learning,outputs)\n",
        "loss_after_learning"
      ],
      "execution_count": 26,
      "outputs": [
        {
          "output_type": "stream",
          "text": [
            "/usr/local/lib/python3.6/dist-packages/torch/nn/modules/loss.py:443: UserWarning: Using a target size (torch.Size([1, 2])) that is different to the input size (torch.Size([1, 1, 64, 2])). This will likely lead to incorrect results due to broadcasting. Please ensure they have the same size.\n",
            "  return F.mse_loss(input, target, reduction=self.reduction)\n"
          ],
          "name": "stderr"
        },
        {
          "output_type": "execute_result",
          "data": {
            "text/plain": [
              "tensor(0.0486, grad_fn=<MseLossBackward>)"
            ]
          },
          "metadata": {
            "tags": []
          },
          "execution_count": 26
        }
      ]
    },
    {
      "cell_type": "code",
      "metadata": {
        "id": "A7_yFME0-Wye",
        "colab_type": "code",
        "colab": {}
      },
      "source": [
        ""
      ],
      "execution_count": 0,
      "outputs": []
    }
  ]
}